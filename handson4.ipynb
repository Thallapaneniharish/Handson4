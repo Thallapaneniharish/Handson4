{
 "cells": [
  {
   "cell_type": "markdown",
   "id": "b6729ccf",
   "metadata": {},
   "source": [
    "# PROBLEM 0 - FIBANNOCI SEQUENCE"
   ]
  },
  {
   "cell_type": "code",
   "execution_count": 1,
   "id": "1f0bb8ae",
   "metadata": {},
   "outputs": [
    {
     "name": "stdout",
     "output_type": "stream",
     "text": [
      "Enter size for Fibannoci Sequence: 5\n"
     ]
    },
    {
     "data": {
      "text/plain": [
       "5"
      ]
     },
     "execution_count": 1,
     "metadata": {},
     "output_type": "execute_result"
    }
   ],
   "source": [
    "def fib(n):\n",
    "    if n == 0 :\n",
    "        return 0\n",
    "    elif n == 1 :\n",
    "        return 1\n",
    "    else:\n",
    "        return fib(n-1) + fib(n-2)\n",
    "\n",
    "n=int(input(\"Enter size for Fibannoci Sequence: \"))\n",
    "fib(n)"
   ]
  },
  {
   "cell_type": "markdown",
   "id": "484aff00",
   "metadata": {},
   "source": [
    "For fib(5) we go according to the steps below:\n",
    "fib(5) -> fib(4)+fib(3)\n",
    "fib(4) -> fib(3)+fib(2)\n",
    "fib(3) -> fib(2)+fib(1)\n",
    "fib(2) -> fib(1)+fib(0)\n",
    "\n",
    "fib(1) returns 1 and fib(0) returns 0 which will be the result of fib(2)\n",
    "fib(3) result will then be 1+1 which is 2\n",
    "fib(4) result will be 2+1 which is 3\n",
    "fib(5) result will be 3+2 which is 5"
   ]
  },
  {
   "cell_type": "markdown",
   "id": "58c0c360",
   "metadata": {},
   "source": [
    "Time complexity will be 1 when the input is 1\n",
    "when the input is n the time complexity is O(logn)"
   ]
  },
  {
   "cell_type": "markdown",
   "id": "caa20f13",
   "metadata": {},
   "source": [
    "# PROBLEM 1 - MERGE THE ARRAYS IN A SORTED ORDER"
   ]
  },
  {
   "cell_type": "markdown",
   "id": "b3faa63d",
   "metadata": {},
   "source": [
    "Used the Merge sort algorithm to sort the array"
   ]
  },
  {
   "cell_type": "code",
   "execution_count": 2,
   "id": "24915e8d",
   "metadata": {},
   "outputs": [
    {
     "name": "stdout",
     "output_type": "stream",
     "text": [
      "Enter the arr1 items : 1 3 5 7\n",
      "Enter the arr2 items : 2 4 6 8\n",
      "Enter the arr3 items : 0 9 10 11\n",
      "[0, 1, 2, 3, 4, 5, 6, 7, 8, 9, 10, 11]\n"
     ]
    }
   ],
   "source": [
    "def merge_sorted_arrays_without_sort(arrays):\n",
    "    merged_result = []\n",
    "    \n",
    "    \n",
    "    for array in arrays:\n",
    "        merged_result.extend(array)\n",
    "    \n",
    "    \n",
    "    merge_sort(merged_result)\n",
    "    \n",
    "    return merged_result\n",
    "def merge_sort(arr):\n",
    "    if len(arr) > 1:\n",
    "        mid = len(arr) // 2\n",
    "        left_half = arr[:mid]\n",
    "        right_half = arr[mid:]\n",
    "\n",
    "        merge_sort(left_half)\n",
    "        merge_sort(right_half)\n",
    "\n",
    "        i = j = k = 0\n",
    "\n",
    "        while i < len(left_half) and j < len(right_half):\n",
    "            if left_half[i] < right_half[j]:\n",
    "                arr[k] = left_half[i]\n",
    "                i += 1\n",
    "            else:\n",
    "                arr[k] = right_half[j]\n",
    "                j += 1\n",
    "            k += 1\n",
    "\n",
    "        while i < len(left_half):\n",
    "            arr[k] = left_half[i]\n",
    "            i += 1\n",
    "            k += 1\n",
    "\n",
    "        while j < len(right_half):\n",
    "            arr[k] = right_half[j]\n",
    "            j += 1\n",
    "            k += 1\n",
    "arr1 = [int(item) for item in input(\"Enter the arr1 items : \").split()]\n",
    "arr2 = [int(item) for item in input(\"Enter the arr2 items : \").split()]\n",
    "arr3 = [int(item) for item in input(\"Enter the arr3 items : \").split()]\n",
    "result1 = merge_sorted_arrays_without_sort([arr1, arr2, arr3])\n",
    "print(result1)"
   ]
  },
  {
   "cell_type": "markdown",
   "id": "45369fc1",
   "metadata": {},
   "source": [
    "#### "
   ]
  },
  {
   "cell_type": "markdown",
   "id": "43ca878e",
   "metadata": {},
   "source": [
    "The time complexity for Merge sort O(n*logn)"
   ]
  },
  {
   "cell_type": "markdown",
   "id": "fd402399",
   "metadata": {},
   "source": [
    "# Problem - 2 Remove Duplicates"
   ]
  },
  {
   "cell_type": "code",
   "execution_count": 7,
   "id": "ffe5090c",
   "metadata": {},
   "outputs": [
    {
     "name": "stdout",
     "output_type": "stream",
     "text": [
      "Enter the array items : 1 2 2 3 3 4 4 5\n",
      "[1, 2, 3, 4, 5]\n"
     ]
    }
   ],
   "source": [
    "arr = [int(item) for item in input(\"Enter the array items : \").split()]\n",
    "arr1 = []\n",
    "arr1.append(arr[0])\n",
    "for i in range(1,len(arr)):\n",
    "    if(arr[i] != arr[i-1]):\n",
    "        arr1.append(arr[i])\n",
    "arr1.sort()\n",
    "print(arr1)"
   ]
  },
  {
   "cell_type": "markdown",
   "id": "d81c5b55",
   "metadata": {},
   "source": [
    "Time complexity for the above code is O(n) where n is the length of the array"
   ]
  }
 ],
 "metadata": {
  "kernelspec": {
   "display_name": "Python 3 (ipykernel)",
   "language": "python",
   "name": "python3"
  },
  "language_info": {
   "codemirror_mode": {
    "name": "ipython",
    "version": 3
   },
   "file_extension": ".py",
   "mimetype": "text/x-python",
   "name": "python",
   "nbconvert_exporter": "python",
   "pygments_lexer": "ipython3",
   "version": "3.11.3"
  }
 },
 "nbformat": 4,
 "nbformat_minor": 5
}
